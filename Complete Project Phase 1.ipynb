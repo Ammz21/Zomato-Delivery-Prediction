{
 "cells": [
  {
   "cell_type": "code",
   "execution_count": 1,
   "id": "7e475d13",
   "metadata": {},
   "outputs": [],
   "source": [
    "# Import necessary libraries\n",
    "import pandas as pd\n",
    "import numpy as np\n",
    "import matplotlib.pyplot as plt\n",
    "import seaborn as sns\n",
    "from sklearn.model_selection import train_test_split, GridSearchCV\n",
    "from sklearn.linear_model import LinearRegression\n",
    "from sklearn.ensemble import RandomForestRegressor\n",
    "from sklearn.tree import DecisionTreeClassifier\n",
    "from sklearn.metrics import mean_squared_error, accuracy_score, mean_absolute_error, r2_score\n",
    "import statsmodels.api as sm\n",
    "import sqlite3"
   ]
  },
  {
   "cell_type": "code",
   "execution_count": 2,
   "id": "62c3dfeb",
   "metadata": {},
   "outputs": [],
   "source": [
    "# Load the dataset\n",
    "zomato_data = pd.read_csv('Zomato Dataset.csv')"
   ]
  },
  {
   "cell_type": "code",
   "execution_count": null,
   "id": "55a96023",
   "metadata": {},
   "outputs": [],
   "source": [
    "# Print the first and last 10 rows of the dataset\n",
    "print(zomato_data.head(10))\n",
    "print(zomato_data.tail(10))"
   ]
  },
  {
   "cell_type": "code",
   "execution_count": null,
   "id": "49f8dbec",
   "metadata": {},
   "outputs": [],
   "source": [
    "# Check the shape of the dataset\n",
    "print(\"Shape of the dataset:\", zomato_data.shape)"
   ]
  },
  {
   "cell_type": "code",
   "execution_count": null,
   "id": "618f6b65",
   "metadata": {},
   "outputs": [],
   "source": [
    "# Display data types and basic info\n",
    "print(\"Data Types and Info:\")\n",
    "print(zomato_data.dtypes)"
   ]
  },
  {
   "cell_type": "code",
   "execution_count": null,
   "id": "3fb17214",
   "metadata": {},
   "outputs": [],
   "source": [
    "# Print the column names\n",
    "print(\"Column Names:\")\n",
    "print(zomato_data.columns)"
   ]
  },
  {
   "cell_type": "code",
   "execution_count": null,
   "id": "e018b091",
   "metadata": {},
   "outputs": [],
   "source": [
    "# Check for missing values\n",
    "print(\"Missing Values:\")\n",
    "missing_values = zomato_data.isnull().sum()\n",
    "print(missing_values[missing_values > 0])"
   ]
  },
  {
   "cell_type": "code",
   "execution_count": 8,
   "id": "a93b474d",
   "metadata": {},
   "outputs": [],
   "source": [
    "# Drop missing values that are less than 1% of the data\n",
    "zomato_data.dropna(inplace=True)"
   ]
  },
  {
   "cell_type": "code",
   "execution_count": null,
   "id": "602d6d6a",
   "metadata": {},
   "outputs": [],
   "source": [
    "# Check for duplicates and remove them\n",
    "print(\"Duplicate Rows:\", zomato_data.duplicated().sum())\n",
    "zomato_data = zomato_data.drop_duplicates()"
   ]
  },
  {
   "cell_type": "code",
   "execution_count": null,
   "id": "70ef0c88",
   "metadata": {},
   "outputs": [],
   "source": [
    "# Summary statistics for numerical columns\n",
    "print(\"Summary Statistics for Numerical Columns:\")\n",
    "print(zomato_data.describe())"
   ]
  },
  {
   "cell_type": "code",
   "execution_count": 11,
   "id": "aace6135",
   "metadata": {},
   "outputs": [],
   "source": [
    "# Handle missing values with specific strategies\n",
    "zomato_data['Delivery_person_Age'].fillna(zomato_data['Delivery_person_Age'].mean(), inplace=True)\n",
    "zomato_data['Delivery_person_Ratings'].fillna(zomato_data['Delivery_person_Ratings'].mean(), inplace=True)\n",
    "zomato_data['multiple_deliveries'].fillna(1, inplace=True)\n",
    "zomato_data.fillna('Unknown', inplace=True)"
   ]
  },
  {
   "cell_type": "code",
   "execution_count": null,
   "id": "45e4949c",
   "metadata": {},
   "outputs": [],
   "source": [
    "zomato_data.isnull().sum()"
   ]
  },
  {
   "cell_type": "code",
   "execution_count": 13,
   "id": "75f8c958",
   "metadata": {},
   "outputs": [],
   "source": [
    "# Feature Engineering: Calculate approximate Distance between Restaurant and Delivery Location (Euclidean distance)\n",
    "zomato_data['Distance_km'] = np.sqrt(\n",
    "    (zomato_data['Restaurant_latitude'] - zomato_data['Delivery_location_latitude'])**2 +\n",
    "    (zomato_data['Restaurant_longitude'] - zomato_data['Delivery_location_longitude'])**2\n",
    ")"
   ]
  },
  {
   "cell_type": "code",
   "execution_count": 14,
   "id": "e90e8e78",
   "metadata": {},
   "outputs": [],
   "source": [
    "# Convert Order Date to datetime\n",
    "zomato_data['Order_Date'] = pd.to_datetime(zomato_data['Order_Date'], format='%d-%m-%Y')"
   ]
  },
  {
   "cell_type": "code",
   "execution_count": null,
   "id": "ef8e3563",
   "metadata": {},
   "outputs": [],
   "source": [
    "# Clean column names for easier SQL handling\n",
    "zomato_data.columns = zomato_data.columns.str.replace(' ', '_').str.replace('(', '').str.replace(')', '')\n"
   ]
  },
  {
   "cell_type": "code",
   "execution_count": null,
   "id": "847a0862",
   "metadata": {},
   "outputs": [],
   "source": []
  },
  {
   "cell_type": "code",
   "execution_count": null,
   "id": "6edcf080",
   "metadata": {},
   "outputs": [],
   "source": [
    "# SQL PART: Store cleaned data into an SQLite database in the specified folder\n",
    "conn = sqlite3.connect(r\"C:\\Users\\amrut\\Zomato Prediction Project\\SQL\\zomato.db\")  # Use raw string (r) to handle the backslashes in Windows paths\n",
    "zomato_data.to_sql('zomato_data', conn, if_exists='replace', index=False)\n",
    "\n",
    "# Check if the data was successfully saved\n",
    "query = \"SELECT * FROM zomato_data LIMIT 5;\"\n",
    "df_sql = pd.read_sql(query, conn)\n",
    "print(df_sql)\n",
    "\n",
    "# Close the database connection\n",
    "conn.close()\n"
   ]
  },
  {
   "cell_type": "code",
   "execution_count": null,
   "id": "2c3c8b91",
   "metadata": {},
   "outputs": [],
   "source": []
  },
  {
   "cell_type": "code",
   "execution_count": null,
   "id": "adbb4c8b",
   "metadata": {},
   "outputs": [],
   "source": [
    "# Exploratory Data Analysis (EDA)\n",
    "# a. Distribution of Delivery Time\n",
    "plt.figure(figsize=(6,4))\n",
    "sns.histplot(zomato_data['Time_taken_min'], bins=30, kde=True, color='skyblue')\n",
    "plt.title('Distribution of Delivery Time (min)')\n",
    "plt.show()"
   ]
  },
  {
   "cell_type": "code",
   "execution_count": null,
   "id": "dff92fd9",
   "metadata": {},
   "outputs": [],
   "source": [
    "# b. Distribution of Delivery Person Age\n",
    "plt.figure(figsize=(6,4))\n",
    "sns.histplot(zomato_data['Delivery_person_Age'], bins=20, kde=True, color='lightgreen')\n",
    "plt.title('Distribution of Delivery Person Age')\n",
    "plt.show()"
   ]
  },
  {
   "cell_type": "code",
   "execution_count": null,
   "id": "0259200e",
   "metadata": {},
   "outputs": [],
   "source": [
    "# c. Categorical Variables: Weather and Traffic\n",
    "plt.figure(figsize=(10,6))\n",
    "sns.countplot(x='Weather_conditions', data=zomato_data, palette='Set2')\n",
    "plt.title('Deliveries by Weather Conditions')\n",
    "plt.xticks(rotation=45)\n",
    "plt.show()"
   ]
  },
  {
   "cell_type": "code",
   "execution_count": null,
   "id": "9b4f9f13",
   "metadata": {},
   "outputs": [],
   "source": [
    "plt.figure(figsize=(10,6))\n",
    "sns.countplot(x='Road_traffic_density', data=zomato_data, palette='Set1')\n",
    "plt.title('Deliveries by Traffic Density')\n",
    "plt.xticks(rotation=45)\n",
    "plt.show()"
   ]
  },
  {
   "cell_type": "code",
   "execution_count": null,
   "id": "be720ad4",
   "metadata": {},
   "outputs": [],
   "source": [
    "# Correlation Heatmap\n",
    "plt.figure(figsize=(10,8))\n",
    "corr_matrix = zomato_data.corr()\n",
    "sns.heatmap(corr_matrix, annot=True, cmap='coolwarm', linewidths=0.5)\n",
    "plt.title('Correlation Matrix')\n",
    "plt.show()"
   ]
  },
  {
   "cell_type": "code",
   "execution_count": 22,
   "id": "eb811172",
   "metadata": {},
   "outputs": [],
   "source": [
    "# Data Analytics on Different Cases\n",
    "# 1. Delivery Person Performance Analysis\n",
    "zomato_data_performance = zomato_data.groupby('Delivery_person_ID').agg({\n",
    "    'Delivery_person_Ratings': 'mean',\n",
    "    'Time_taken_min': 'mean'\n",
    "}).reset_index()\n"
   ]
  },
  {
   "cell_type": "code",
   "execution_count": null,
   "id": "6332678b",
   "metadata": {},
   "outputs": [],
   "source": [
    "zomato_data_performance = zomato_data_performance.sort_values(by=['Time_taken_min', 'Delivery_person_Ratings'], ascending=[True, False])\n",
    "print(\"Top 5 Delivery Person Performance:\")\n",
    "print(zomato_data_performance.head())\n"
   ]
  },
  {
   "cell_type": "code",
   "execution_count": null,
   "id": "aed3bef2",
   "metadata": {},
   "outputs": [],
   "source": [
    "# 2. Multiple Deliveries Impact\n",
    "plt.figure(figsize=(10,6))\n",
    "sns.barplot(x='multiple_deliveries', y='Time_taken_min', data=zomato_data, palette='coolwarm')\n",
    "plt.title('Impact of Multiple Deliveries on Time Taken')\n",
    "plt.show()"
   ]
  },
  {
   "cell_type": "code",
   "execution_count": null,
   "id": "2690a9a7",
   "metadata": {},
   "outputs": [],
   "source": [
    "# 3. Demand Forecasting\n",
    "# Convert 'Order_Date' to datetime format\n",
    "zomato_data['Order_Date'] = pd.to_datetime(zomato_data['Order_Date'], errors='coerce')\n",
    "\n",
    "# Group by 'Order_Date' and count the number of deliveries\n",
    "zomato_data_demand = zomato_data.groupby('Order_Date').size().reset_index(name='Deliveries')\n",
    "\n",
    "# Check the result\n",
    "print(zomato_data_demand.head())\n",
    "\n",
    "\n",
    "\n"
   ]
  },
  {
   "cell_type": "code",
   "execution_count": null,
   "id": "f9df8592",
   "metadata": {},
   "outputs": [],
   "source": [
    "# Plot the demand over time\n",
    "plt.figure(figsize=(10,6))\n",
    "sns.lineplot(x='Order_Date', y='Deliveries', data=zomato_data_demand, marker='o')\n",
    "plt.title('Daily Delivery Demand Forecasting')\n",
    "plt.xticks(rotation=45)\n",
    "plt.xlabel('Order Date')\n",
    "plt.ylabel('Number of Deliveries')\n",
    "plt.show()\n"
   ]
  },
  {
   "cell_type": "code",
   "execution_count": null,
   "id": "4431c7b6",
   "metadata": {},
   "outputs": [],
   "source": [
    "# 4. Impact of Weather and Traffic on Delivery Times\n",
    "plt.figure(figsize=(10,6))\n",
    "sns.barplot(x='Weather_conditions', y='Time_taken_min', data=zomato_data, palette='Set2')\n",
    "plt.title('Impact of Weather on Delivery Time')\n",
    "plt.xticks(rotation=45)\n",
    "plt.show()\n"
   ]
  },
  {
   "cell_type": "code",
   "execution_count": null,
   "id": "3122f50a",
   "metadata": {},
   "outputs": [],
   "source": [
    "plt.figure(figsize=(10,6))\n",
    "sns.barplot(x='Road_traffic_density', y='Time_taken_min', data=zomato_data, palette='Set1')\n",
    "plt.title('Impact of Traffic on Delivery Time')\n",
    "plt.show()\n"
   ]
  },
  {
   "cell_type": "code",
   "execution_count": 29,
   "id": "a85976ea",
   "metadata": {},
   "outputs": [],
   "source": [
    "# 9. CITY-WISE PERFORMANCE ANALYSIS\n",
    "\n",
    "zomato_data_city_performance = zomato_data.groupby('City').agg({\n",
    "    'Time_taken_min': 'mean',\n",
    "    'Delivery_person_Ratings': 'mean'\n",
    "}).reset_index()"
   ]
  },
  {
   "cell_type": "code",
   "execution_count": null,
   "id": "4fa097d2",
   "metadata": {},
   "outputs": [],
   "source": [
    "plt.figure(figsize=(10,6))\n",
    "sns.barplot(x='Time_taken_min', y='City', data=zomato_data_city_performance, palette='Set3')\n",
    "plt.title('City-wise Average Delivery Time')\n",
    "plt.xlabel('Average Time Taken (min)')\n",
    "plt.ylabel('City')\n",
    "plt.show()"
   ]
  },
  {
   "cell_type": "code",
   "execution_count": null,
   "id": "bd8b5511",
   "metadata": {},
   "outputs": [],
   "source": [
    "\n",
    "# 10. DELIVERY VEHICLE CONDITION IMPACT\n",
    "\n",
    "plt.figure(figsize=(10,6))\n",
    "sns.barplot(x='Vehicle_condition', y='Time_taken_min', data=zomato_data, palette='Set1')\n",
    "plt.title('Impact of Vehicle Condition on Delivery Time')\n",
    "plt.ylabel('Average Time Taken (min)')\n",
    "plt.show()\n",
    "\n",
    "print(zomato_data.groupby('Vehicle_condition')['Time_taken_min'].mean())"
   ]
  },
  {
   "cell_type": "code",
   "execution_count": null,
   "id": "b018487e",
   "metadata": {},
   "outputs": [],
   "source": [
    "# 11. FESTIVAL IMPACT ON DELIVERY EFFICIENCY\n",
    "\n",
    "plt.figure(figsize=(10,6))\n",
    "sns.barplot(x='Festival', y='Time_taken_min', data=zomato_data, palette='Set2')\n",
    "plt.title('Festival Impact on Delivery Time')\n",
    "plt.ylabel('Average Time Taken (min)')\n",
    "plt.show()\n",
    "\n",
    "print(zomato_data.groupby('Festival')['Time_taken_min'].mean())"
   ]
  },
  {
   "cell_type": "code",
   "execution_count": 33,
   "id": "fc0e688c",
   "metadata": {},
   "outputs": [],
   "source": [
    "# Close the database connection\n",
    "conn.close()"
   ]
  },
  {
   "cell_type": "code",
   "execution_count": 34,
   "id": "42bbdd84",
   "metadata": {},
   "outputs": [],
   "source": [
    "# Delivery Time Prediction\n",
    "\n",
    "# Select features and target variable\n",
    "X = zomato_data[['Delivery_person_Age', 'Delivery_person_Ratings', 'Weather_conditions', \n",
    "                 'Road_traffic_density', 'Vehicle_condition', 'multiple_deliveries', 'City']]\n",
    "y = zomato_data['Time_taken_min']"
   ]
  },
  {
   "cell_type": "code",
   "execution_count": 35,
   "id": "6d704c8e",
   "metadata": {},
   "outputs": [],
   "source": [
    "# One-hot encode categorical variables\n",
    "from sklearn.preprocessing import OneHotEncoder\n",
    "encoder = OneHotEncoder(sparse=False)\n",
    "X_encoded = pd.DataFrame(encoder.fit_transform(X[['Weather_conditions', 'Road_traffic_density', 'City']]))\n",
    "X_encoded.columns = encoder.get_feature_names_out(['Weather_conditions', 'Road_traffic_density', 'City'])"
   ]
  },
  {
   "cell_type": "code",
   "execution_count": 36,
   "id": "227c656c",
   "metadata": {},
   "outputs": [],
   "source": [
    "# Combine encoded features with numerical columns\n",
    "X = X.drop(columns=['Weather_conditions', 'Road_traffic_density', 'City'])\n",
    "X = pd.concat([X, X_encoded], axis=1)"
   ]
  },
  {
   "cell_type": "code",
   "execution_count": null,
   "id": "2556d6b7",
   "metadata": {},
   "outputs": [],
   "source": [
    "print(\"Number of missing values in X:\", X.isnull().sum().sum())\n",
    "print(\"Number of missing values in y:\", y.isnull().sum())\n"
   ]
  },
  {
   "cell_type": "code",
   "execution_count": 38,
   "id": "761b2ed7",
   "metadata": {},
   "outputs": [],
   "source": [
    "# Drop missing values in X and y\n",
    "X = X.dropna()\n",
    "y = y[X.index]  # Align y with X by using the same index\n"
   ]
  },
  {
   "cell_type": "code",
   "execution_count": null,
   "id": "c9fe83f0",
   "metadata": {},
   "outputs": [],
   "source": [
    "print(f\"Length of X: {len(X)}\")\n",
    "print(f\"Length of y: {len(y)}\")\n"
   ]
  },
  {
   "cell_type": "code",
   "execution_count": 40,
   "id": "d7cfdccb",
   "metadata": {},
   "outputs": [],
   "source": [
    "X_train, X_test, y_train, y_test = train_test_split(X, y, test_size=0.2, random_state=42)\n"
   ]
  },
  {
   "cell_type": "code",
   "execution_count": null,
   "id": "2a66381d",
   "metadata": {},
   "outputs": [],
   "source": [
    "# Model 1: Linear Regression\n",
    "lr_model = LinearRegression()\n",
    "lr_model.fit(X_train, y_train)\n",
    "y_pred_lr = lr_model.predict(X_test)\n",
    "print(f\"Linear Regression MAE: {mean_absolute_error(y_test, y_pred_lr)}\")\n",
    "print(f\"Linear Regression R^2: {r2_score(y_test, y_pred_lr)}\")"
   ]
  },
  {
   "cell_type": "code",
   "execution_count": null,
   "id": "6952cf00",
   "metadata": {},
   "outputs": [],
   "source": [
    "# Model 2: Random Forest Regressor\n",
    "rf_model = RandomForestRegressor(random_state=42)\n",
    "rf_model.fit(X_train, y_train)\n",
    "y_pred_rf = rf_model.predict(X_test)\n",
    "print(f\"Random Forest MAE: {mean_absolute_error(y_test, y_pred_rf)}\")\n",
    "print(f\"Random Forest R^2: {r2_score(y_test, y_pred_rf)}\")"
   ]
  },
  {
   "cell_type": "code",
   "execution_count": 43,
   "id": "3d2792ea",
   "metadata": {},
   "outputs": [],
   "source": [
    "# Model 3: Decision Tree Classifier (if using classification task)\n",
    "# For example, we can predict whether delivery will be fast/slow based on certain thresholds\n",
    "zomato_data['Fast_Delivery'] = zomato_data['Time_taken_min'] <= zomato_data['Time_taken_min'].median()\n",
    "X_classification = zomato_data[['Delivery_person_Age', 'Delivery_person_Ratings', 'Weather_conditions', \n",
    "                                'Road_traffic_density', 'Vehicle_condition', 'multiple_deliveries', 'City']]\n",
    "y_classification = zomato_data['Fast_Delivery']"
   ]
  },
  {
   "cell_type": "code",
   "execution_count": 44,
   "id": "f0a20e74",
   "metadata": {},
   "outputs": [],
   "source": [
    "# One-hot encoding as before\n",
    "X_encoded_class = pd.DataFrame(encoder.fit_transform(X_classification[['Weather_conditions', 'Road_traffic_density', 'City']]))\n",
    "X_encoded_class.columns = encoder.get_feature_names_out(['Weather_conditions', 'Road_traffic_density', 'City'])\n",
    "X_classification = X_classification.drop(columns=['Weather_conditions', 'Road_traffic_density', 'City'])\n",
    "X_classification = pd.concat([X_classification, X_encoded_class], axis=1)"
   ]
  },
  {
   "cell_type": "code",
   "execution_count": null,
   "id": "5d4f70bc",
   "metadata": {},
   "outputs": [],
   "source": [
    "print(\"Length of X_classification:\", len(X_classification))\n",
    "print(\"Length of y_classification:\", len(y_classification))\n"
   ]
  },
  {
   "cell_type": "code",
   "execution_count": null,
   "id": "578598e9",
   "metadata": {},
   "outputs": [],
   "source": [
    "# One-hot encoding as before\n",
    "X_encoded_class = pd.DataFrame(encoder.fit_transform(X_classification[['Weather_conditions', 'Road_traffic_density', 'City']]))\n",
    "X_encoded_class.columns = encoder.get_feature_names_out(['Weather_conditions', 'Road_traffic_density', 'City'])\n",
    "X_classification = X_classification.drop(columns=['Weather_conditions', 'Road_traffic_density', 'City'])\n",
    "X_classification = pd.concat([X_classification, X_encoded_class], axis=1)"
   ]
  },
  {
   "cell_type": "code",
   "execution_count": 46,
   "id": "0787cc14",
   "metadata": {},
   "outputs": [],
   "source": [
    "# Drop missing values in X_classification\n",
    "X_classification = X_classification.dropna()\n",
    "\n",
    "# Ensure that y_classification is aligned with X_classification's index\n",
    "y_classification = y_classification[X_classification.index]\n"
   ]
  },
  {
   "cell_type": "code",
   "execution_count": null,
   "id": "3fba4a3d",
   "metadata": {},
   "outputs": [],
   "source": [
    "print(f\"Length of X_classification after cleaning: {len(X_classification)}\")\n",
    "print(f\"Length of y_classification after cleaning: {len(y_classification)}\")\n"
   ]
  },
  {
   "cell_type": "code",
   "execution_count": 48,
   "id": "6584b546",
   "metadata": {},
   "outputs": [],
   "source": [
    "# Train-test split for classification\n",
    "X_train_class, X_test_class, y_train_class, y_test_class = train_test_split(X_classification, y_classification, test_size=0.2, random_state=42)"
   ]
  },
  {
   "cell_type": "code",
   "execution_count": null,
   "id": "7747b6ab",
   "metadata": {},
   "outputs": [],
   "source": [
    "# Decision Tree Classifier\n",
    "dt_model = DecisionTreeClassifier(random_state=42)\n",
    "dt_model.fit(X_train_class, y_train_class)\n",
    "y_pred_dt = dt_model.predict(X_test_class)\n",
    "print(f\"Decision Tree Accuracy: {accuracy_score(y_test_class, y_pred_dt)}\")"
   ]
  },
  {
   "cell_type": "code",
   "execution_count": null,
   "id": "d5522e01",
   "metadata": {},
   "outputs": [],
   "source": [
    "# Model Evaluation\n",
    "print(\"Linear Regression - MAE:\", mean_absolute_error(y_test, y_pred_lr))\n",
    "print(\"Random Forest - MAE:\", mean_absolute_error(y_test, y_pred_rf))\n",
    "print(\"Decision Tree - Accuracy:\", accuracy_score(y_test.astype('int'), y_pred_dt))"
   ]
  },
  {
   "cell_type": "markdown",
   "id": "682c3630",
   "metadata": {},
   "source": [
    "# Grid Search for best parameters on RandomForest\n",
    "param_grid = {\n",
    "    'n_estimators': [100, 200],\n",
    "    'max_depth': [10, 20, None]\n",
    "}"
   ]
  },
  {
   "cell_type": "markdown",
   "id": "9aafd1c9",
   "metadata": {},
   "source": [
    "# grid_search = GridSearchCV(RandomForestRegressor(random_state=42), param_grid, cv=5)\n",
    "grid_search.fit(X_train, y_train)"
   ]
  },
  {
   "cell_type": "markdown",
   "id": "16e0afac",
   "metadata": {},
   "source": [
    "# Best model from grid search\n",
    "best_rf_model = grid_search.best_estimator_\n",
    "y_pred_best_rf = best_rf_model.predict(X_test)\n",
    "print(f\"Best Random Forest MAE: {mean_absolute_error(y_test, y_pred_best_rf)}\")\n",
    "print(f\"Best Random Forest R^2: {r2_score(y_test, y_pred_best_rf)}\")"
   ]
  },
  {
   "cell_type": "code",
   "execution_count": 51,
   "id": "af9834e9",
   "metadata": {},
   "outputs": [],
   "source": [
    "zomato_data.to_csv('zomato_cleaned_dataset.csv', index=False)"
   ]
  },
  {
   "cell_type": "code",
   "execution_count": null,
   "id": "c693d341",
   "metadata": {},
   "outputs": [],
   "source": []
  }
 ],
 "metadata": {
  "kernelspec": {
   "display_name": "Python 3 (ipykernel)",
   "language": "python",
   "name": "python3"
  },
  "language_info": {
   "codemirror_mode": {
    "name": "ipython",
    "version": 3
   },
   "file_extension": ".py",
   "mimetype": "text/x-python",
   "name": "python",
   "nbconvert_exporter": "python",
   "pygments_lexer": "ipython3",
   "version": "3.9.13"
  }
 },
 "nbformat": 4,
 "nbformat_minor": 5
}
